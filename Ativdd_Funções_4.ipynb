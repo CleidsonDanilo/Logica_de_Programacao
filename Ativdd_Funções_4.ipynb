{
  "nbformat": 4,
  "nbformat_minor": 0,
  "metadata": {
    "colab": {
      "provenance": []
    },
    "kernelspec": {
      "name": "python3",
      "display_name": "Python 3"
    },
    "language_info": {
      "name": "python"
    }
  },
  "cells": [
    {
      "cell_type": "markdown",
      "source": [
        "# **01 . função area do terreno**\n",
        "**Data: 26/06/2023**"
      ],
      "metadata": {
        "id": "e85XKzme7V9t"
      }
    },
    {
      "cell_type": "code",
      "source": [
        "\n",
        "#usei a variavel return, para o valor fica salvo na fução.\n",
        "\n",
        "def area(a,b):\n",
        "   s= l * c\n",
        "   return s\n",
        "\n",
        "#programa ilustrativo.\n",
        "\n",
        "def mensagem(msg):\n",
        "  print('-'*30)\n",
        "  print('{0:^30}'.format(msg))\n",
        "  print('-'*30)\n",
        "\n",
        "mensagem('Area do terreno')\n",
        "\n",
        "#programa principal.\n",
        "\n",
        "l=int(input('Digite a largura: '))\n",
        "c=int(input('Digite o comprimento: '))\n",
        "area= area(l,c)\n",
        "print(f'A area do terreno é: {area}')"
      ],
      "metadata": {
        "colab": {
          "base_uri": "https://localhost:8080/"
        },
        "id": "aBdQmV_07WSN",
        "outputId": "1acdb47a-faac-4a36-ace5-67d48739da6e"
      },
      "execution_count": null,
      "outputs": [
        {
          "output_type": "stream",
          "name": "stdout",
          "text": [
            "------------------------------\n",
            "       Area do terreno        \n",
            "------------------------------\n",
            "Digite a largura: 4\n",
            "Digite o comprimento: 3\n",
            "A area do terreno é:12\n"
          ]
        }
      ]
    },
    {
      "cell_type": "markdown",
      "source": [
        "# **02 Funçao Tamanho**\n",
        "**Data: 26/06/2023**"
      ],
      "metadata": {
        "id": "4zZ60hkaBvYr"
      }
    },
    {
      "cell_type": "code",
      "source": [
        "# strem igual a os tamanhos \"-\"\n",
        "def mensagem(texto):\n",
        "  tam=len(texto)+1\n",
        "  print('-'*tam)\n",
        "  print(texto)\n",
        "  print('-'*tam)\n",
        "\n",
        "#Programa principal(\" \",)\n",
        "\n",
        "mensagem('Cleidson Danilo')\n",
        "mensagem('So Aluno mesmo')\n",
        "mensagem('19 anos')"
      ],
      "metadata": {
        "colab": {
          "base_uri": "https://localhost:8080/"
        },
        "id": "JrlLuExEBv9k",
        "outputId": "eb6b591b-1870-43b1-b3a4-bc1c048c1874"
      },
      "execution_count": null,
      "outputs": [
        {
          "output_type": "stream",
          "name": "stdout",
          "text": [
            "----------------\n",
            "Cleidson Danilo\n",
            "----------------\n",
            "---------------\n",
            "So Aluno mesmo\n",
            "---------------\n",
            "--------\n",
            "19 anos\n",
            "--------\n"
          ]
        }
      ]
    },
    {
      "cell_type": "markdown",
      "source": [
        "# **03 . armazena dados**\n",
        "**Data: 26/06/2023**"
      ],
      "metadata": {
        "id": "-EIHlHvDGv6q"
      }
    },
    {
      "cell_type": "code",
      "source": [
        "\n",
        "#programa para o usuario coloca seu nome e data\n",
        "\n",
        "def armazena(nome, data):\n",
        "  nomegb=nome\n",
        "  datagb=data\n",
        "  print('Nome armazenado: ',nomegb)\n",
        "  print('Data de nacimento armazenada: ',datagb)\n",
        "\n",
        "#Programa principal\n",
        "\n",
        "x=input('Digite seu nome: ')\n",
        "y=input('Digite sua data de nacimento: ')\n",
        "armazena(x,y)"
      ],
      "metadata": {
        "colab": {
          "base_uri": "https://localhost:8080/"
        },
        "id": "s_dxJLFtGwS5",
        "outputId": "4e48a8f2-e33e-4896-93e9-949680888fa8"
      },
      "execution_count": null,
      "outputs": [
        {
          "output_type": "stream",
          "name": "stdout",
          "text": [
            "Sua nome é:  cleidson Danilo\n",
            "A Idade de cleidson Danilo é: 08/07/2004\n",
            "Digite seu nome: fgfg\n",
            "Digite sua data de nacimento: 1990\n",
            "Nome armazenado:  fgfg\n",
            "Data de nacimento armazenada:  1990\n"
          ]
        }
      ]
    },
    {
      "cell_type": "markdown",
      "source": [
        "# **1 - Calculadora de Média:**\n",
        "Crie uma função chamada \"calcular_media\" que recebe uma lista de números como argumento e retorna a média desses números.\n",
        "\n",
        "**Data: 27/06/2023**"
      ],
      "metadata": {
        "id": "TM5mJGNlveeZ"
      }
    },
    {
      "cell_type": "code",
      "source": [
        "# strem igual a os tamanhos \"-\"\n",
        "\n",
        "def media(lista):\n",
        "  media = sum(lista)/len(lista)\n",
        "  print('-'*30)\n",
        "  print(f'A media dos {len(lista)} numeros é: {media}')\n",
        "  print('-'*30)\n",
        "\n",
        "num=[]\n",
        "n=int(input('Digite o tamanho da lista de numeros: '))\n",
        "for i in range (0,n):\n",
        "  x=int(input('Digite um valor: '))\n",
        "  num.append(x)\n",
        "\n",
        "media(num)\n"
      ],
      "metadata": {
        "id": "TPqRvLsAvezp",
        "colab": {
          "base_uri": "https://localhost:8080/"
        },
        "outputId": "9cdbf711-8840-4d8e-ffdd-e78783987256"
      },
      "execution_count": null,
      "outputs": [
        {
          "output_type": "stream",
          "name": "stdout",
          "text": [
            "Digite o tamanho da lista de numeros:5\n",
            "Digite um valor: 2\n",
            "Digite um valor: 2\n",
            "Digite um valor: 2\n",
            "Digite um valor: 6\n",
            "Digite um valor: 4\n",
            "------------------------------\n",
            "A media dos 5 numeros é: 3.2\n",
            "------------------------------\n"
          ]
        }
      ]
    },
    {
      "cell_type": "markdown",
      "source": [
        "# **2 - Verificação de Números Pares:**\n",
        "Escreva uma função chamada \"verificar_par\" que recebe um número como argumento e retorna True se o número for par, e False caso contrário.\n",
        "\n",
        "**Data: 27/06/2023**"
      ],
      "metadata": {
        "id": "j_C45ozlvfFB"
      }
    },
    {
      "cell_type": "code",
      "source": [
        "# strem igual a os tamanhos \"-\"\n",
        "def par(num):\n",
        "  if num%2==0:\n",
        "    x = \"É PAR\"\n",
        "  else:\n",
        "    x = \"É IMPAR\"\n",
        "  print (x)\n",
        "\n",
        "\n",
        "a=int(input('Digite um valor: \\n'))\n",
        "par(a)"
      ],
      "metadata": {
        "id": "wN3Ly2C4vfYJ",
        "colab": {
          "base_uri": "https://localhost:8080/"
        },
        "outputId": "767cd872-f6b4-48d9-fa69-b628438031f0"
      },
      "execution_count": null,
      "outputs": [
        {
          "output_type": "stream",
          "name": "stdout",
          "text": [
            "Digite um valor: \n",
            "4\n",
            "É PAR\n"
          ]
        }
      ]
    },
    {
      "cell_type": "markdown",
      "source": [
        "# **3 - Contagem de Vogais:**\n",
        "Crie uma função chamada \"contar_vogais\" que recebe uma string como argumento e retorna o número de vogais presentes na string.\n",
        "\n",
        "\n",
        "**Data: 27/06/2023**"
      ],
      "metadata": {
        "id": "osuUEFHWv7YB"
      }
    },
    {
      "cell_type": "code",
      "source": [
        "def contar_vogais(string):\n",
        "    vogais = \"aeiouAEIOU\"\n",
        "    cont = 0\n",
        "    for char in string:\n",
        "      if char in vogais:\n",
        "        cont += 1\n",
        "    return cont\n",
        "\n",
        "texto=str(input(\"Digite um texto: \"))\n",
        "resultado = contar_vogais(texto)\n",
        "print(resultado)\n",
        "\n"
      ],
      "metadata": {
        "id": "bR6UEQogv7mh",
        "colab": {
          "base_uri": "https://localhost:8080/"
        },
        "outputId": "39d406fd-314f-474a-a600-dd19b68a967c"
      },
      "execution_count": null,
      "outputs": [
        {
          "output_type": "stream",
          "name": "stdout",
          "text": [
            "Digite um texto: OI\n",
            "2\n"
          ]
        }
      ]
    },
    {
      "cell_type": "markdown",
      "source": [
        "# **4 - Verificação de Palíndromo:**\n",
        "Escreva uma função chamada \"verificar_palindromo\" que recebe uma palavra como argumento e retorna True se a palavra for um palíndromo (ou seja, se pode ser lida da mesma forma de trás para frente), e False caso contrário.\n",
        "\n",
        "**Data:27/06/2023**"
      ],
      "metadata": {
        "id": "BIaK0CtWv8AJ"
      }
    },
    {
      "cell_type": "code",
      "source": [
        "def verificar(palavra):\n",
        "    palavra = palavra.lower() # bota para vira minusculo \".lowe\"\n",
        "    palavra = palavra.replace(\" \", \"\") # usar para tira os espaços  \".replace\"\n",
        "\n",
        "    if palavra == palavra[::-1]:\n",
        "        return \"É uma palavra palindromo\"\n",
        "    else:\n",
        "        return \"Não é uma palavra palindromo\"\n",
        "    return palavra\n",
        "\n",
        "texto = str(input(\"Digite um texto: \"))\n",
        "resultado = verificar(texto)\n",
        "print(resultado)"
      ],
      "metadata": {
        "id": "VYctXFVKv8eJ",
        "colab": {
          "base_uri": "https://localhost:8080/"
        },
        "outputId": "7fd4c94a-2658-4adc-9d27-a185b6670d8b"
      },
      "execution_count": null,
      "outputs": [
        {
          "output_type": "stream",
          "name": "stdout",
          "text": [
            "Digite um texto: arara\n",
            "É uma palavra palindromo\n"
          ]
        }
      ]
    },
    {
      "cell_type": "markdown",
      "source": [
        "# **5 - Conversão de Temperatura:**\n",
        "Crie uma função chamada \"converter_temperatura\" que recebe uma temperatura em graus Celsius como argumento e retorna o valor equivalente em graus Fahrenheit.\n",
        "\n",
        "**Data:27/06/2023**"
      ],
      "metadata": {
        "id": "lS1uCOUDv8-p"
      }
    },
    {
      "cell_type": "code",
      "source": [
        "def conv_temp(cel):\n",
        "  resul = cel*1.8 + 32\n",
        "  return resul\n",
        "\n",
        "x=float(input(\"Digite a temperatura em °C para transforma em °F: \"))\n",
        "resultado = conv_temp(x)\n",
        "print(\"O resultador é: \", resultado)\n"
      ],
      "metadata": {
        "id": "cVIcId4Sv9iZ",
        "colab": {
          "base_uri": "https://localhost:8080/"
        },
        "outputId": "808cd28a-24f2-4aca-c295-fc43de675cb1"
      },
      "execution_count": null,
      "outputs": [
        {
          "output_type": "stream",
          "name": "stdout",
          "text": [
            "Digite a temperatura em °C para transforma em °F: 24\n",
            "O resultador é:  75.2\n"
          ]
        }
      ]
    }
  ]
}