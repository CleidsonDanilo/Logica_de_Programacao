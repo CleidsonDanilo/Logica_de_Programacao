{
  "cells": [
    {
      "cell_type": "markdown",
      "metadata": {
        "id": "gMyh8dk2JTMN"
      },
      "source": [
        "# Q1"
      ]
    },
    {
      "cell_type": "code",
      "execution_count": null,
      "metadata": {
        "colab": {
          "base_uri": "https://localhost:8080/"
        },
        "id": "GAOS01hdI3aO",
        "outputId": "5d9d2cf2-e669-4548-fcfb-4899a154ed6e"
      },
      "outputs": [
        {
          "name": "stdout",
          "output_type": "stream",
          "text": [
            "soma = 20\n",
            "soma = 20\n"
          ]
        }
      ],
      "source": [
        "#usando while\n",
        "soma=0\n",
        "x=0\n",
        "while x<20:\n",
        "  soma+=1\n",
        "  x+=1\n",
        "print(f'soma = {soma}')\n",
        "\n",
        "#usando for\n",
        "\n",
        "soma=0\n",
        "x=0\n",
        "for x in range(0,20):\n",
        "  soma+=1\n",
        "\n",
        "print(f'soma = {soma}')\n"
      ]
    },
    {
      "cell_type": "markdown",
      "metadata": {
        "id": "7v3WdEhiMcin"
      },
      "source": [
        "# 2Q\n",
        "\n",
        "Escrever os números pares existentes entre 1 e 20."
      ]
    },
    {
      "cell_type": "code",
      "execution_count": null,
      "metadata": {
        "colab": {
          "base_uri": "https://localhost:8080/"
        },
        "id": "ntx-Sod4M9Ym",
        "outputId": "e4baa2dd-4f26-425d-e0c7-97661e18d0db"
      },
      "outputs": [
        {
          "name": "stdout",
          "output_type": "stream",
          "text": [
            "2\n",
            "4\n",
            "6\n",
            "8\n",
            "10\n",
            "12\n",
            "14\n",
            "16\n",
            "18\n",
            "20\n"
          ]
        }
      ],
      "source": [
        "n=0\n",
        "\n",
        "while n<20:\n",
        "  n+=1\n",
        "  if n%2 == 0:\n",
        "    print(n)\n"
      ]
    },
    {
      "cell_type": "markdown",
      "metadata": {
        "id": "pGhclI34P2f2"
      },
      "source": [
        "# 3Q\n",
        "Ler um número e calcular seu fatorial\n",
        " Ex: 5! = 5 * 4 * 3 * 2 * 1"
      ]
    },
    {
      "cell_type": "code",
      "execution_count": null,
      "metadata": {
        "colab": {
          "base_uri": "https://localhost:8080/"
        },
        "id": "EPDnTawOQFw1",
        "outputId": "fe177bc2-3016-47bb-befe-ed3308562595"
      },
      "outputs": [
        {
          "name": "stdout",
          "output_type": "stream",
          "text": [
            "Digite um numero para a soma5\n",
            "5!=120\n"
          ]
        }
      ],
      "source": [
        "soma=1\n",
        "n=int(input(\"Digite um numero para a soma\"))\n",
        "fatorial=1\n",
        "\n",
        "while soma<n:\n",
        "  soma+=1\n",
        "  fatorial=fatorial*soma\n",
        "print(f'{n}!={fatorial}')\n",
        "\n",
        "\n",
        "\n"
      ]
    },
    {
      "cell_type": "markdown",
      "metadata": {
        "id": "sNWzhWBXWHqd"
      },
      "source": [
        "# 4Q\n",
        "\n",
        "Ler 10 números do usuário e calcule a média"
      ]
    },
    {
      "cell_type": "code",
      "execution_count": null,
      "metadata": {
        "colab": {
          "base_uri": "https://localhost:8080/"
        },
        "id": "nEK_wJCVWOKu",
        "outputId": "809166ef-a476-45a9-a188-4ee6f7034c34"
      },
      "outputs": [
        {
          "name": "stdout",
          "output_type": "stream",
          "text": [
            "Digite um numero: 1\n",
            "Digite um numero: 2\n",
            "Digite um numero: 3\n",
            "Digite um numero: 4\n",
            "Digite um numero: 5\n",
            "Digite um numero: 6\n",
            "Digite um numero: 7\n",
            "Digite um numero: 8\n",
            "Digite um numero: 9\n",
            "Digite um numero: 10\n",
            "media =5.5\n"
          ]
        }
      ],
      "source": [
        "soma=0\n",
        "\n",
        "for x in range(0,10):\n",
        "  n=int(input(\"Digite um numero: \"))\n",
        "  soma+=n\n",
        "print(f'media = {soma/10}')\n"
      ]
    },
    {
      "cell_type": "markdown",
      "metadata": {
        "id": "c1GG4yWLeunq"
      },
      "source": [
        "# 5Q\n",
        "\n",
        "Ler a idade de várias pessoas e calcular a média das idades. Encerrar a execução quando valor negativo for digitado."
      ]
    },
    {
      "cell_type": "code",
      "execution_count": null,
      "metadata": {
        "colab": {
          "base_uri": "https://localhost:8080/"
        },
        "id": "DTE_k7_KfJGx",
        "outputId": "a55fde2e-f44f-4bff-9ea5-cbf6bb57b5db"
      },
      "outputs": [
        {
          "name": "stdout",
          "output_type": "stream",
          "text": [
            "Digite um numero: 15\n",
            "Digite um numero: 15\n",
            "Digite um numero: -3\n",
            "soma:  30\n",
            " Media:  15.0\n"
          ]
        }
      ],
      "source": [
        "soma=0\n",
        "cont=0\n",
        "\n",
        "x=int(input(\"Digite um numero: \"))\n",
        "\n",
        "while x > 0:\n",
        "  cont+=1\n",
        "  soma=x+soma\n",
        "  x=int(input(\"Digite um numero: \"))\n",
        "print(f\"soma:  {soma}\")\n",
        "print(f' Media:  {soma/cont}')\n",
        "\n",
        "\n"
      ]
    },
    {
      "cell_type": "markdown",
      "metadata": {
        "id": "thTNyOzKpviI"
      },
      "source": [
        "# 6Q\n",
        "Escreva um algoritmo para ler e escrever o nome de todos os alunos presentes na aula de hoje de Algoritmos. Encerre a execução quando o nome digitado for igual a “fim”\n"
      ]
    },
    {
      "cell_type": "code",
      "execution_count": null,
      "metadata": {
        "colab": {
          "base_uri": "https://localhost:8080/"
        },
        "id": "xUdGH8Ugp-ES",
        "outputId": "bc328b3f-c2ae-4002-decf-009882d06dd0"
      },
      "outputs": [
        {
          "name": "stdout",
          "output_type": "stream",
          "text": [
            "escreva os nomes do aluno (fim pra sair): gth\n",
            "escreva os nomes do aluno (fim pra sair): gtg\n",
            "escreva os nomes do aluno (fim pra sair): g5g\n",
            "escreva os nomes do aluno (fim pra sair): rgt\n",
            "escreva os nomes do aluno (fim pra sair): fim\n"
          ]
        }
      ],
      "source": [
        "nome=input('escreva os nomes do aluno (fim pra sair): ')\n",
        "while nome != \"fim\":\n",
        "    nome=input(\"escreva os nomes do aluno (fim pra sair): \")\n",
        "\n"
      ]
    },
    {
      "cell_type": "markdown",
      "metadata": {
        "id": "R-LYocmytbDw"
      },
      "source": [
        "# Q7\n",
        "\n",
        "Leia uma sequencia de números do usuário e escreva o dobro de cada número lido. Encerre a execução quando o número digitado for negativo"
      ]
    },
    {
      "cell_type": "code",
      "execution_count": null,
      "metadata": {
        "colab": {
          "base_uri": "https://localhost:8080/"
        },
        "id": "jrRMme0ytvnR",
        "outputId": "842e8df1-068b-4f5b-db4a-0945f36dd20a"
      },
      "outputs": [
        {
          "output_type": "stream",
          "name": "stdout",
          "text": [
            "Digite um número: 5\n",
            "O dobro de 5 é 10 \n",
            "\n",
            "Digite um número: 4\n",
            "O dobro de 4 é 8 \n",
            "\n",
            "Digite um número: 8\n",
            "O dobro de 8 é 16 \n",
            "\n",
            "Digite um número: -5\n",
            "\n",
            "Fim do programa!\n"
          ]
        }
      ],
      "source": [
        "while True:\n",
        "    numero = int(input(\"Digite um número: \"))\n",
        "\n",
        "    if numero < 0:\n",
        "        break\n",
        "\n",
        "    resultado = numero * 2\n",
        "    print(\"O dobro de\", numero, \"é\", resultado,\"\\n\")\n",
        "print(\"\\n\"\"Fim do programa!\")\n"
      ]
    },
    {
      "cell_type": "markdown",
      "metadata": {
        "id": "z4Bs55k7tv53"
      },
      "source": [
        "# Q8\n",
        "Escreva um algoritmo que calcule a soma dos números pares enquanto o valor da soma for menor do que 100."
      ]
    },
    {
      "cell_type": "code",
      "execution_count": null,
      "metadata": {
        "id": "XHyXMFY_t2Lv",
        "colab": {
          "base_uri": "https://localhost:8080/"
        },
        "outputId": "df88d593-7051-4088-da2b-52f68589a23b"
      },
      "outputs": [
        {
          "output_type": "stream",
          "name": "stdout",
          "text": [
            "A soma dos números pares de 0 a 100 é: 0\n",
            "A soma dos números pares de 0 a 100 é: 2\n",
            "A soma dos números pares de 0 a 100 é: 4\n",
            "A soma dos números pares de 0 a 100 é: 6\n",
            "A soma dos números pares de 0 a 100 é: 8\n",
            "A soma dos números pares de 0 a 100 é: 10\n",
            "A soma dos números pares de 0 a 100 é: 12\n",
            "A soma dos números pares de 0 a 100 é: 14\n",
            "A soma dos números pares de 0 a 100 é: 16\n",
            "A soma dos números pares de 0 a 100 é: 18\n",
            "A soma dos números pares de 0 a 100 é: 20\n",
            "A soma dos números pares de 0 a 100 é: 22\n",
            "A soma dos números pares de 0 a 100 é: 24\n",
            "A soma dos números pares de 0 a 100 é: 26\n",
            "A soma dos números pares de 0 a 100 é: 28\n",
            "A soma dos números pares de 0 a 100 é: 30\n",
            "A soma dos números pares de 0 a 100 é: 32\n",
            "A soma dos números pares de 0 a 100 é: 34\n",
            "A soma dos números pares de 0 a 100 é: 36\n",
            "A soma dos números pares de 0 a 100 é: 38\n",
            "A soma dos números pares de 0 a 100 é: 40\n",
            "A soma dos números pares de 0 a 100 é: 42\n",
            "A soma dos números pares de 0 a 100 é: 44\n",
            "A soma dos números pares de 0 a 100 é: 46\n",
            "A soma dos números pares de 0 a 100 é: 48\n",
            "A soma dos números pares de 0 a 100 é: 50\n",
            "A soma dos números pares de 0 a 100 é: 52\n",
            "A soma dos números pares de 0 a 100 é: 54\n",
            "A soma dos números pares de 0 a 100 é: 56\n",
            "A soma dos números pares de 0 a 100 é: 58\n",
            "A soma dos números pares de 0 a 100 é: 60\n",
            "A soma dos números pares de 0 a 100 é: 62\n",
            "A soma dos números pares de 0 a 100 é: 64\n",
            "A soma dos números pares de 0 a 100 é: 66\n",
            "A soma dos números pares de 0 a 100 é: 68\n",
            "A soma dos números pares de 0 a 100 é: 70\n",
            "A soma dos números pares de 0 a 100 é: 72\n",
            "A soma dos números pares de 0 a 100 é: 74\n",
            "A soma dos números pares de 0 a 100 é: 76\n",
            "A soma dos números pares de 0 a 100 é: 78\n",
            "A soma dos números pares de 0 a 100 é: 80\n",
            "A soma dos números pares de 0 a 100 é: 82\n",
            "A soma dos números pares de 0 a 100 é: 84\n",
            "A soma dos números pares de 0 a 100 é: 86\n",
            "A soma dos números pares de 0 a 100 é: 88\n",
            "A soma dos números pares de 0 a 100 é: 90\n",
            "A soma dos números pares de 0 a 100 é: 92\n",
            "A soma dos números pares de 0 a 100 é: 94\n",
            "A soma dos números pares de 0 a 100 é: 96\n",
            "A soma dos números pares de 0 a 100 é: 98\n",
            "A soma dos números pares de 0 a 100 é: 100\n"
          ]
        }
      ],
      "source": [
        "soma = 0\n",
        "\n",
        "for numero in range(0, 51):\n",
        "    soma = numero + numero\n",
        "    print(\"A soma dos números pares de 0 a 100 é:\", soma)"
      ]
    },
    {
      "cell_type": "markdown",
      "metadata": {
        "id": "AzYulmRQt2e3"
      },
      "source": [
        "# Q9\n",
        "\n",
        "Escrever 20 vezes a mensagem “Eu vou tirar 10.0 na próxima prova de Algoritmos e P.O.O!”"
      ]
    },
    {
      "cell_type": "code",
      "execution_count": null,
      "metadata": {
        "id": "FDk97v3xuAK_",
        "colab": {
          "base_uri": "https://localhost:8080/"
        },
        "outputId": "d4b0ba8b-371f-47c4-b975-cfb1080f0760"
      },
      "outputs": [
        {
          "output_type": "stream",
          "name": "stdout",
          "text": [
            "Eu vou tirar 10.0 na próxima prova de Algoritmos e P.O.O!\n",
            "Eu vou tirar 10.0 na próxima prova de Algoritmos e P.O.O!\n",
            "Eu vou tirar 10.0 na próxima prova de Algoritmos e P.O.O!\n",
            "Eu vou tirar 10.0 na próxima prova de Algoritmos e P.O.O!\n",
            "Eu vou tirar 10.0 na próxima prova de Algoritmos e P.O.O!\n",
            "Eu vou tirar 10.0 na próxima prova de Algoritmos e P.O.O!\n",
            "Eu vou tirar 10.0 na próxima prova de Algoritmos e P.O.O!\n",
            "Eu vou tirar 10.0 na próxima prova de Algoritmos e P.O.O!\n",
            "Eu vou tirar 10.0 na próxima prova de Algoritmos e P.O.O!\n",
            "Eu vou tirar 10.0 na próxima prova de Algoritmos e P.O.O!\n",
            "Eu vou tirar 10.0 na próxima prova de Algoritmos e P.O.O!\n",
            "Eu vou tirar 10.0 na próxima prova de Algoritmos e P.O.O!\n",
            "Eu vou tirar 10.0 na próxima prova de Algoritmos e P.O.O!\n",
            "Eu vou tirar 10.0 na próxima prova de Algoritmos e P.O.O!\n",
            "Eu vou tirar 10.0 na próxima prova de Algoritmos e P.O.O!\n",
            "Eu vou tirar 10.0 na próxima prova de Algoritmos e P.O.O!\n",
            "Eu vou tirar 10.0 na próxima prova de Algoritmos e P.O.O!\n",
            "Eu vou tirar 10.0 na próxima prova de Algoritmos e P.O.O!\n",
            "Eu vou tirar 10.0 na próxima prova de Algoritmos e P.O.O!\n",
            "Eu vou tirar 10.0 na próxima prova de Algoritmos e P.O.O!\n",
            "\n",
            "não creio  nessa frase prof\n"
          ]
        }
      ],
      "source": [
        "for numero in range(0, 20):\n",
        "    print(\"Eu vou tirar 10.0 na próxima prova de Algoritmos e P.O.O!\")\n",
        "print(\"\\n\"\"não creio  nessa frase prof\")"
      ]
    },
    {
      "cell_type": "markdown",
      "metadata": {
        "id": "g4cpR4VPuC9v"
      },
      "source": [
        "# Q10\n",
        "\n",
        "Escrever os números ímpares de 1 a 20"
      ]
    },
    {
      "cell_type": "code",
      "execution_count": null,
      "metadata": {
        "colab": {
          "base_uri": "https://localhost:8080/"
        },
        "id": "nXwC5DFVuHB-",
        "outputId": "e32467e6-abcf-4ec0-ff90-aeed62598d5a"
      },
      "outputs": [
        {
          "name": "stdout",
          "output_type": "stream",
          "text": [
            "1\n",
            "3\n",
            "5\n",
            "7\n",
            "9\n",
            "11\n",
            "13\n",
            "15\n",
            "17\n",
            "19\n"
          ]
        }
      ],
      "source": [
        "n=0\n",
        "\n",
        "while n<20:\n",
        "  n+=1\n",
        "  if n%2 != 0:\n",
        "    print(n)"
      ]
    },
    {
      "cell_type": "markdown",
      "metadata": {
        "id": "CSmoheoyuHfX"
      },
      "source": [
        "# Q11\n",
        "Um cliente de supermercado fez uma compra de 20 itens. Leia o preço de cada item e calcule o total que a pessoa vai pagar."
      ]
    },
    {
      "cell_type": "code",
      "execution_count": null,
      "metadata": {
        "id": "zXn-0fynuOVg",
        "colab": {
          "base_uri": "https://localhost:8080/",
          "height": 415
        },
        "outputId": "78c2c140-f5a4-4a3f-de57-4c20bf6f710c"
      },
      "outputs": [
        {
          "output_type": "stream",
          "name": "stdout",
          "text": [
            "Bem vindo, a Emporio-Xpress.\n",
            "\n"
          ]
        },
        {
          "output_type": "error",
          "ename": "KeyboardInterrupt",
          "evalue": "ignored",
          "traceback": [
            "\u001b[0;31m---------------------------------------------------------------------------\u001b[0m",
            "\u001b[0;31mKeyboardInterrupt\u001b[0m                         Traceback (most recent call last)",
            "\u001b[0;32m<ipython-input-53-a3e795b56b7e>\u001b[0m in \u001b[0;36m<cell line: 6>\u001b[0;34m()\u001b[0m\n\u001b[1;32m      5\u001b[0m \u001b[0mprint\u001b[0m\u001b[0;34m(\u001b[0m\u001b[0;34m\"Bem vindo, a Emporio-Xpress.\\n\"\u001b[0m\u001b[0;34m)\u001b[0m\u001b[0;34m\u001b[0m\u001b[0;34m\u001b[0m\u001b[0m\n\u001b[1;32m      6\u001b[0m \u001b[0;32mfor\u001b[0m \u001b[0mpreco\u001b[0m \u001b[0;32min\u001b[0m \u001b[0mrange\u001b[0m\u001b[0;34m(\u001b[0m\u001b[0;36m0\u001b[0m\u001b[0;34m,\u001b[0m \u001b[0;36m20\u001b[0m\u001b[0;34m)\u001b[0m\u001b[0;34m:\u001b[0m\u001b[0;34m\u001b[0m\u001b[0;34m\u001b[0m\u001b[0m\n\u001b[0;32m----> 7\u001b[0;31m   \u001b[0mpreco\u001b[0m \u001b[0;34m=\u001b[0m \u001b[0mfloat\u001b[0m\u001b[0;34m(\u001b[0m\u001b[0minput\u001b[0m\u001b[0;34m(\u001b[0m\u001b[0;34mf\"Digite o preço de cada item : \"\u001b[0m\u001b[0;34m)\u001b[0m\u001b[0;34m)\u001b[0m\u001b[0;34m\u001b[0m\u001b[0;34m\u001b[0m\u001b[0m\n\u001b[0m\u001b[1;32m      8\u001b[0m   \u001b[0mtotal\u001b[0m \u001b[0;34m+=\u001b[0m \u001b[0mpreco\u001b[0m\u001b[0;34m\u001b[0m\u001b[0;34m\u001b[0m\u001b[0m\n\u001b[1;32m      9\u001b[0m \u001b[0mprint\u001b[0m\u001b[0;34m(\u001b[0m\u001b[0;34m\"\\n\"\u001b[0m\u001b[0;34m\"O total a paga é: \"\u001b[0m\u001b[0;34m,\u001b[0m \u001b[0mtotal\u001b[0m\u001b[0;34m)\u001b[0m\u001b[0;34m\u001b[0m\u001b[0;34m\u001b[0m\u001b[0m\n",
            "\u001b[0;32m/usr/local/lib/python3.10/dist-packages/ipykernel/kernelbase.py\u001b[0m in \u001b[0;36mraw_input\u001b[0;34m(self, prompt)\u001b[0m\n\u001b[1;32m    849\u001b[0m                 \u001b[0;34m\"raw_input was called, but this frontend does not support input requests.\"\u001b[0m\u001b[0;34m\u001b[0m\u001b[0;34m\u001b[0m\u001b[0m\n\u001b[1;32m    850\u001b[0m             )\n\u001b[0;32m--> 851\u001b[0;31m         return self._input_request(str(prompt),\n\u001b[0m\u001b[1;32m    852\u001b[0m             \u001b[0mself\u001b[0m\u001b[0;34m.\u001b[0m\u001b[0m_parent_ident\u001b[0m\u001b[0;34m,\u001b[0m\u001b[0;34m\u001b[0m\u001b[0;34m\u001b[0m\u001b[0m\n\u001b[1;32m    853\u001b[0m             \u001b[0mself\u001b[0m\u001b[0;34m.\u001b[0m\u001b[0m_parent_header\u001b[0m\u001b[0;34m,\u001b[0m\u001b[0;34m\u001b[0m\u001b[0;34m\u001b[0m\u001b[0m\n",
            "\u001b[0;32m/usr/local/lib/python3.10/dist-packages/ipykernel/kernelbase.py\u001b[0m in \u001b[0;36m_input_request\u001b[0;34m(self, prompt, ident, parent, password)\u001b[0m\n\u001b[1;32m    893\u001b[0m             \u001b[0;32mexcept\u001b[0m \u001b[0mKeyboardInterrupt\u001b[0m\u001b[0;34m:\u001b[0m\u001b[0;34m\u001b[0m\u001b[0;34m\u001b[0m\u001b[0m\n\u001b[1;32m    894\u001b[0m                 \u001b[0;31m# re-raise KeyboardInterrupt, to truncate traceback\u001b[0m\u001b[0;34m\u001b[0m\u001b[0;34m\u001b[0m\u001b[0m\n\u001b[0;32m--> 895\u001b[0;31m                 \u001b[0;32mraise\u001b[0m \u001b[0mKeyboardInterrupt\u001b[0m\u001b[0;34m(\u001b[0m\u001b[0;34m\"Interrupted by user\"\u001b[0m\u001b[0;34m)\u001b[0m \u001b[0;32mfrom\u001b[0m \u001b[0;32mNone\u001b[0m\u001b[0;34m\u001b[0m\u001b[0;34m\u001b[0m\u001b[0m\n\u001b[0m\u001b[1;32m    896\u001b[0m             \u001b[0;32mexcept\u001b[0m \u001b[0mException\u001b[0m \u001b[0;32mas\u001b[0m \u001b[0me\u001b[0m\u001b[0;34m:\u001b[0m\u001b[0;34m\u001b[0m\u001b[0;34m\u001b[0m\u001b[0m\n\u001b[1;32m    897\u001b[0m                 \u001b[0mself\u001b[0m\u001b[0;34m.\u001b[0m\u001b[0mlog\u001b[0m\u001b[0;34m.\u001b[0m\u001b[0mwarning\u001b[0m\u001b[0;34m(\u001b[0m\u001b[0;34m\"Invalid Message:\"\u001b[0m\u001b[0;34m,\u001b[0m \u001b[0mexc_info\u001b[0m\u001b[0;34m=\u001b[0m\u001b[0;32mTrue\u001b[0m\u001b[0;34m)\u001b[0m\u001b[0;34m\u001b[0m\u001b[0;34m\u001b[0m\u001b[0m\n",
            "\u001b[0;31mKeyboardInterrupt\u001b[0m: Interrupted by user"
          ]
        }
      ],
      "source": [
        "total = 0\n",
        "troco = 0\n",
        "falta = 0\n",
        "\n",
        "print(\"Bem vindo, a Emporio-Xpress.\\n\")\n",
        "for preco in range(0, 20):\n",
        "  preco = float(input(f\"Digite o preço de cada item : \"))\n",
        "  total += preco\n",
        "print(\"\\n\"\"O total a paga é: \", total)\n",
        "\n",
        "pag = float(input(\"Digite o pagamento: \"))\n",
        "troco = pag - total\n",
        "\n",
        "\n",
        "if troco >= 0:\n",
        "    print(\"Troco = \", troco)\n",
        "    print(\"Obrigado por comprar na Emporio-Xpress!\\nVolte Sempre.\")\n",
        "else:\n",
        "    falta = total - pag\n",
        "    print(\"Dinheiro insuficiente. Faltam R$\", falta)"
      ]
    },
    {
      "cell_type": "markdown",
      "metadata": {
        "id": "wBsXfDnsuN5P"
      },
      "source": [
        "# Q12\n",
        "Leia a quantidade de alunos existentes em uma sala de aula e para cada aluno, leia a sua média final. Ao final, escreva a quantidade de alunos que foi aprovada por média (o aluno é aprovado por média se sua média final for maior ou igual a 6,0)"
      ]
    },
    {
      "cell_type": "code",
      "execution_count": null,
      "metadata": {
        "id": "Q_49yNlTuXs4"
      },
      "outputs": [],
      "source": [
        "n=int(input('Qual a quantidade de aluno? '))\n",
        "soma=0\n",
        "for i in range(0,n):\n",
        "    nome=str(input(f'Qual o nome do aluno {i,1} ? '))\n",
        "    nota=int(input(f'Qual a notas dos alunos {i,1} ? '))\n",
        "    if nota>=6:\n",
        "      soma=soma+1\n",
        "      print(f'{soma} aluno foram aprovados ')\n",
        "    else:\n",
        "      print(f'{soma} alunos foram reprovados')"
      ]
    }
  ],
  "metadata": {
    "colab": {
      "provenance": []
    },
    "kernelspec": {
      "display_name": "Python 3",
      "name": "python3"
    },
    "language_info": {
      "name": "python"
    }
  },
  "nbformat": 4,
  "nbformat_minor": 0
}