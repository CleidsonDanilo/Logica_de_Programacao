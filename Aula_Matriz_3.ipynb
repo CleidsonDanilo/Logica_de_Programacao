{
  "nbformat": 4,
  "nbformat_minor": 0,
  "metadata": {
    "colab": {
      "provenance": []
    },
    "kernelspec": {
      "name": "python3",
      "display_name": "Python 3"
    },
    "language_info": {
      "name": "python"
    }
  },
  "cells": [
    {
      "cell_type": "markdown",
      "source": [
        "# EXEMPLO DE UMA MATRIZ"
      ],
      "metadata": {
        "id": "sPbQZe4qxEUD"
      }
    },
    {
      "cell_type": "code",
      "source": [
        "l= int(input(\"Quantas linhas vai ter a matriz? \"))\n",
        "c= int(input(\"Quantas colunas vai ter a matriz? \"))\n",
        "\n",
        "## DECLARANDO UMA MATRIZ\n",
        "\n",
        "mat: [[int]] = [[0 for i in range(c)] for i in range(l)]\n",
        "\n",
        "## PREENCHIMENTO DA MATRIZ\n",
        "\n",
        "for i in range(0,l):\n",
        "  for j in range(0,c):\n",
        "    mat[i] [j] = int(input(f'Elemento [{i},{j}]: '))\n",
        "##MOSTRANDO A MATRIZ\n",
        "print()\n",
        "print(\"MATRIZ DIGITADA: \")\n",
        "for i in range(0,l):\n",
        "  for j in range(0,c):\n",
        "    print(f\"{mat[i][j]}\", end=\" \")\n",
        "  print(\"\")\n",
        "\n"
      ],
      "metadata": {
        "colab": {
          "base_uri": "https://localhost:8080/"
        },
        "id": "v0c3UU5vxGyS",
        "outputId": "ce30354e-b30b-4d18-d92b-b595bf43e66c"
      },
      "execution_count": null,
      "outputs": [
        {
          "output_type": "stream",
          "name": "stdout",
          "text": [
            "Quantas linhas vai ter a matriz? 3\n",
            "Quantas colunas vai ter a matriz? 3\n",
            "Elemento [0,0]: 1\n",
            "Elemento [0,1]: 2\n",
            "Elemento [0,2]: 3\n",
            "Elemento [1,0]: 4\n",
            "Elemento [1,1]: 5\n",
            "Elemento [1,2]: 6\n",
            "Elemento [2,0]: 7\n",
            "Elemento [2,1]: 8\n",
            "Elemento [2,2]: 9\n",
            "\n",
            "MATRIZ DIGITADA: \n",
            "1 2 3 \n",
            "4 5 6 \n",
            "7 8 9 \n"
          ]
        }
      ]
    },
    {
      "cell_type": "markdown",
      "source": [
        "# 1.Problema \"diagonal_negativos\"\n",
        "Fazer um programa para ler um número inteiro N (máximo = 10) e uma matriz quadrada de ordem N\n",
        "contendo números inteiros. Em seguida, mostrar a diagonal principal e a quantidade de valores\n",
        "negativos da matriz."
      ],
      "metadata": {
        "id": "l82Z31Hi2hgo"
      }
    },
    {
      "cell_type": "code",
      "source": [
        "l= int(input(\"Quantas linhas vai ter a matriz? \"))\n",
        "c= int(input(\"Quantas colunas vai ter a matriz? \"))\n",
        "cont=0\n",
        "## DECLARANDO UMA MATRIZ\n",
        "\n",
        "mat: [[int]] = [[0 for i in range(c)] for i in range(l)]\n",
        "\n",
        "## PREENCHIMENTO DA MATRIZ\n",
        "\n",
        "\n",
        "print()\n",
        "print(\"Diagonal principal da matriz digitada:\")\n",
        "for i in range(0,l):\n",
        "  for j in range(0,c):\n",
        "    mat[i] [j] = int(input(f'Elemento [{i},{j}]: '))\n",
        "\n",
        "##MOSTRANDO A MATRIZ\n",
        "print()\n",
        "print(\"MATRIZ DIGITADA: \")\n",
        "for i in range(0,l):\n",
        "  for j in range(0,c):\n",
        "    if i==j:\n",
        "     print(f\"{mat[i][j]}\", end=\" \")\n",
        "    if mat[i][j]<0:\n",
        "      cont+=1\n",
        "print(\"\")\n",
        "print(f\"QUANTIDADE DE N° NEGATIVOS DA MATRIZ DIGITADA: {cont}\")\n"
      ],
      "metadata": {
        "colab": {
          "base_uri": "https://localhost:8080/"
        },
        "id": "BhWZC30W2h4o",
        "outputId": "57f2bde3-58a4-43c6-ffd0-0f96ac7f617b"
      },
      "execution_count": null,
      "outputs": [
        {
          "output_type": "stream",
          "name": "stdout",
          "text": [
            "Quantas linhas vai ter a matriz? 3\n",
            "Quantas colunas vai ter a matriz? 2\n",
            "\n",
            "Diagonal principal da matriz digitada:\n",
            "Elemento [0,0]: 5\n",
            "Elemento [0,1]: -3\n",
            "Elemento [1,0]: 10\n",
            "Elemento [1,1]: 15\n",
            "Elemento [2,0]: 8\n",
            "Elemento [2,1]: 2\n",
            "\n",
            "MATRIZ DIGITADA: \n",
            "5 15 \n",
            "QUANTIDADE DE N° NEGATIVOS DA MATRIZ DIGITADA: 1\n"
          ]
        }
      ]
    },
    {
      "cell_type": "markdown",
      "source": [
        "# Problema \"soma_linhas\"\n",
        "\n",
        "Fazer um programa para ler dois números inteiros M e N (máximo = 10). Em seguida, ler uma matriz\n",
        "de M linhas e N colunas contendo números reais. Gerar um vetor de modo que cada elemento do vetor\n",
        "seja a soma dos elementos da linha correspondente da matriz. Mostrar o vetor gerado.\n"
      ],
      "metadata": {
        "id": "mk-apnBe5nRX"
      }
    },
    {
      "cell_type": "code",
      "source": [
        "l= int(input(\"Quantas linhas vai ter a matriz? \"))\n",
        "c= int(input(\"Quantas colunas vai ter a matriz? \"))\n",
        "\n",
        "## DECLARANDO UMA MATRIZ\n",
        "\n",
        "mat: [[int]] = [[0 for i in range(c)] for i in range(l)]\n",
        "vet: [float] = [0 for i in range(l)]\n",
        "\n",
        "## PREENCHIMENTO DA MATRIZ\n",
        "print()\n",
        "print(\"Digite os numeros matriz :\")\n",
        "cont=0\n",
        "for i in range(0,l):\n",
        "  for j in range(0,c):\n",
        "    mat[i] [j] = int(input(f'Elemento [{i},{j}]: '))\n",
        "    cont += mat[i][j]\n",
        "  vet[i]=cont\n",
        "  cont=0\n",
        "\n",
        "##MOSTRANDO A MATRIZ\n",
        "\n",
        "print()\n",
        "print(\"MATRIZ DIGITADA: \")\n",
        "for i in range(0,l):\n",
        "  for j in range(0,c):\n",
        "   print(f\"{mat[i][j]}\", end=\" \")\n",
        "print(\"\")\n",
        "\n",
        "## Mostrando vetor\n",
        "\n",
        "print(\"Vetor resultante\")\n",
        "for i in range(0, l):\n",
        "  print(vet[i])\n",
        "print(\"\")"
      ],
      "metadata": {
        "colab": {
          "base_uri": "https://localhost:8080/"
        },
        "id": "_7KCppCM5nhf",
        "outputId": "66147b30-46cc-43b3-8523-3483ecfd8835"
      },
      "execution_count": null,
      "outputs": [
        {
          "output_type": "stream",
          "name": "stdout",
          "text": [
            "Quantas linhas vai ter a matriz? 2\n",
            "Quantas colunas vai ter a matriz? 2\n",
            "\n",
            "Diagonal principal da matriz digitada:\n",
            "Elemento [0,0]: 5\n",
            "Elemento [0,1]: 5\n",
            "Elemento [1,0]: 2\n",
            "Elemento [1,1]: 2\n",
            "\n",
            "MATRIZ DIGITADA: \n",
            "5 5 2 2 \n",
            "Vetor resultante\n",
            "10\n",
            "4\n",
            "\n"
          ]
        }
      ]
    },
    {
      "cell_type": "markdown",
      "source": [
        "# Problema \"negativos_matriz\"\n",
        "Ler dois números M e N (máximo = 10), e depois ler uma matriz MxN de números inteiros, conforme\n",
        "exemplo. Em seguida, mostrar na tela somente os números negativos da matriz."
      ],
      "metadata": {
        "id": "3LQnNLrEI4wE"
      }
    },
    {
      "cell_type": "code",
      "source": [
        "l= int(input(\"Quantas linhas vai ter a matriz? \"))\n",
        "c= int(input(\"Quantas colunas vai ter a matriz? \"))\n",
        "cont=0\n",
        "## DECLARANDO UMA MATRIZ\n",
        "\n",
        "mat: [[int]] = [[0 for i in range(c)] for i in range(l)]\n",
        "\n",
        "## PREENCHIMENTO DA MATRIZ\n",
        "\n",
        "\n",
        "print()\n",
        "print(\"Diagonal principal da matriz digitada:\")\n",
        "for i in range(0,l):\n",
        "  for j in range(0,c):\n",
        "    mat[i] [j] = int(input(f'Elemento [{i},{j}]: '))\n",
        "\n",
        "##MOSTRANDO A MATRIZ\n",
        "print()\n",
        "print(\"Valores Negativos: \")\n",
        "for i in range(0,l):\n",
        "  for j in range(0,c):\n",
        "    if mat[i][j]<0:\n",
        "      print(f\"{mat[i][j]}\", end=\" \")\n",
        "    print()\n",
        "\n"
      ],
      "metadata": {
        "colab": {
          "base_uri": "https://localhost:8080/"
        },
        "id": "_2wxYcFuI4_s",
        "outputId": "ae6fe5dd-d5e0-40f1-bc55-a449c1a38a15"
      },
      "execution_count": null,
      "outputs": [
        {
          "output_type": "stream",
          "name": "stdout",
          "text": [
            "Quantas linhas vai ter a matriz? 2\n",
            "Quantas colunas vai ter a matriz? 2\n",
            "\n",
            "Diagonal principal da matriz digitada:\n",
            "Elemento [0,0]: -1\n",
            "Elemento [0,1]: 5\n",
            "Elemento [1,0]: -8\n",
            "Elemento [1,1]: 2\n",
            "\n",
            "MATRIZ DIGITADA: \n",
            "-1 \n",
            "\n",
            "-8 \n",
            "\n"
          ]
        }
      ]
    },
    {
      "cell_type": "markdown",
      "source": [
        "# Problema \"cada_linha\"\n",
        "Ler um inteiro N e uma matriz quadrada de ordem N (máximo = 10). Mostrar qual o maior elemento\n",
        "de cada linha. Suponha não haver empates."
      ],
      "metadata": {
        "id": "I528gz06LOhZ"
      }
    },
    {
      "cell_type": "code",
      "source": [
        "l= int(input(\"Quantas linhas vai ter a matriz? \"))\n",
        "c= int(input(\"Quantas colunas vai ter a matriz? \"))\n",
        "\n",
        "cont=0\n",
        "## DECLARANDO UMA MATRIZ\n",
        "\n",
        "mat: [[int]] = [[0 for i in range(c)] for i in range(l)]\n",
        "vet: [float] = [0 for i in range(l)]\n",
        "\n",
        "## PREENCHIMENTO DA MATRIZ\n",
        "\n",
        "\n",
        "print()\n",
        "print(\"Diagonal principal da matriz digitada:\")\n",
        "x= -99999999999999999999\n",
        "for i in range(0,l):\n",
        "  for j in range(0,c):\n",
        "    mat[i] [j] = int(input(f'Elemento [{i},{j}]: '))\n",
        "    if mat[i][j] > x:\n",
        "      x= mat[i][j]\n",
        "      vet[i]=x\n",
        "  x= -99999999999999999999\n",
        "##MOSTRANDO O MAIOR ELEMENTO DE CADA LINHA\n",
        "\n",
        "print()\n",
        "print(\"MAIOR ELEMENTO: \")\n",
        "for i in range(0,l):\n",
        "  print(f\"O maior elemento da linha {i} é: {vet[i]}\")\n",
        "print()"
      ],
      "metadata": {
        "colab": {
          "base_uri": "https://localhost:8080/"
        },
        "id": "hUxRs1NRLPbR",
        "outputId": "fcf59cf9-ce7e-4671-e638-36dcb0548669"
      },
      "execution_count": null,
      "outputs": [
        {
          "output_type": "stream",
          "name": "stdout",
          "text": [
            "Quantas linhas vai ter a matriz? 2\n",
            "Quantas colunas vai ter a matriz? 2\n",
            "\n",
            "Diagonal principal da matriz digitada:\n",
            "Elemento [0,0]: 1\n",
            "Elemento [0,1]: 2\n",
            "Elemento [1,0]: 3\n",
            "Elemento [1,1]: 4\n",
            "\n",
            "MAIOR ELEMENTO: \n",
            "O maior elemento da linha 0 é: 2\n",
            "O maior elemento da linha 1 é: 4\n",
            "\n"
          ]
        }
      ]
    },
    {
      "cell_type": "markdown",
      "source": [
        "# Problema \"soma_matrizes\"\n",
        "\n",
        "Fazer um programa para ler duas matrizes de números inteiros A e B, contendo de M linhas e N colunas\n",
        "cada (M e N máximo = 10). Depois, gerar uma terceira matriz C onde cada elemento desta é a soma\n",
        "dos elementos correspondentes das matrizes originais. Imprimir na tela a matriz gerada."
      ],
      "metadata": {
        "id": "fZqgyS2nQhDg"
      }
    },
    {
      "cell_type": "code",
      "source": [
        "m = int(input(\"Digite o número de linhas (M): \"))\n",
        "n = int(input(\"Digite o número de colunas (N): \"))\n",
        "soma= 0\n",
        "\n",
        "## DECLARANDO UMA MATRIZ\n",
        "\n",
        "matA: [[int]] = [[0 for i in range(n)] for i in range(m)]\n",
        "matB: [[int]] = [[0 for i in range(n)] for i in range(m)]\n",
        "matS: [[int]] = [[0 for i in range(n)] for i in range(m)]\n",
        "\n",
        "# Criando a matriz A\n",
        "\n",
        "print(\"Digite os elementos da matriz A:\")\n",
        "for i in range(0,m):\n",
        "  for j in range(0,n):\n",
        "    matA[i] [j] = int(input(f'Digite o elemento A[{i},{j}]: '))\n",
        "\n",
        "# Criando a matriz B\n",
        "\n",
        "print(\"Digite os elementos da matriz B:\")\n",
        "for i in range(0,m):\n",
        "  for j in range(0,n):\n",
        "    matB[i] [j] = int(input(f'Digite o elemento B[{i},{j}]: '))\n",
        "\n",
        "# Criando a matriz C com a soma dos elementos correspondentes\n",
        "\n",
        "for i in range(0,m):\n",
        "  for j in range(0,n):\n",
        "    matS[i][j] = matA[i][j] + matB[i][j]\n",
        "\n",
        "\n",
        "# Imprimindo a matriz C\n",
        "print(\"A matriz resultante da soma das matrizes A e B, é:\")\n",
        "for i in range(0,m):\n",
        " for j in range(0,n):\n",
        "   print(matS[i][j], end=\" \")\n",
        " print()\n",
        "\n",
        "\n"
      ],
      "metadata": {
        "id": "2tHHUxtoQhwW",
        "colab": {
          "base_uri": "https://localhost:8080/"
        },
        "outputId": "3133f3d3-1c22-4e1e-c034-663d426308ac"
      },
      "execution_count": null,
      "outputs": [
        {
          "output_type": "stream",
          "name": "stdout",
          "text": [
            "Digite o número de linhas (M): 2\n",
            "Digite o número de colunas (N): 2\n",
            "Digite os elementos da matriz A:\n",
            "Digite o elemento A[0,0]: 3\n",
            "Digite o elemento A[0,1]: 2\n",
            "Digite o elemento A[1,0]: 1\n",
            "Digite o elemento A[1,1]: 2\n",
            "Digite os elementos da matriz B:\n",
            "Digite o elemento B[0,0]: 3\n",
            "Digite o elemento B[0,1]: 4\n",
            "Digite o elemento B[1,0]: 5\n",
            "Digite o elemento B[1,1]: 6\n",
            "A matriz resultante da soma das matrizes A e B, é:\n",
            "6 6 \n",
            "6 8 \n"
          ]
        }
      ]
    },
    {
      "cell_type": "markdown",
      "source": [
        "# Problema \"acima_diagonal\"\n",
        "Ler um inteiro N (máximo = 10) e uma matriz quadrada de ordem N\n",
        "contendo números inteiros. Mostrar a soma dos elementos acima da\n",
        "diagonal principal. Um exemplo de números acima da diagonal\n",
        "principal é mostrado ao lado (no caso as células com fundo cinza)."
      ],
      "metadata": {
        "id": "62U16r3-3Dx8"
      }
    },
    {
      "cell_type": "code",
      "source": [
        "l = int(input(\"Quantas linhas vai ter a matriz? \"))\n",
        "c = int(input(\"Quantas colunas vai ter a matriz? \"))\n",
        "soma = 0\n",
        "\n",
        "## DECLARANDO UMA MATRIZ\n",
        "\n",
        "mat: [[int]] = [[0 for i in range(c)] for i in range(l)]\n",
        "\n",
        "## PREENCHIMENTO DA MATRIZ\n",
        "\n",
        "print()\n",
        "print(\"Digite os números da matriz:\")\n",
        "cont = 0\n",
        "for i in range(0, l):\n",
        "  for j in range(0, c):\n",
        "    mat[i][j] = int(input(f'Elemento [{i},{j}]: '))\n",
        "    if i <= (l-2) and j > 0:\n",
        "      cont += mat[i][j]\n",
        "\n",
        "## MOSTRANDO A MATRIZ\n",
        "\n",
        "\n",
        "print()\n",
        "print(\"MATRIZ DIGITADA:\")\n",
        "for i in range(0, l):\n",
        "  for j in range(0, c):\n",
        "    print(f\"{mat[i][j]}\", end=\" \")\n",
        "  print(\"\")\n",
        "print(f\"A soma da matriz na diagonal é {cont}\")"
      ],
      "metadata": {
        "id": "5vfFBBE_3EC1",
        "colab": {
          "base_uri": "https://localhost:8080/"
        },
        "outputId": "cdff78ad-bce6-4023-e297-de7fb7210c1f"
      },
      "execution_count": null,
      "outputs": [
        {
          "output_type": "stream",
          "name": "stdout",
          "text": [
            "Quantas linhas vai ter a matriz? 2\n",
            "Quantas colunas vai ter a matriz? 2\n",
            "\n",
            "Digite os números da matriz:\n",
            "Elemento [0,0]: 1\n",
            "Elemento [0,1]: 2\n",
            "Elemento [1,0]: 3\n",
            "Elemento [1,1]: 4\n",
            "\n",
            "MATRIZ DIGITADA:\n",
            "1 2 \n",
            "3 4 \n",
            "A soma da matriz na diagonal é 2\n"
          ]
        }
      ]
    },
    {
      "cell_type": "markdown",
      "source": [
        "# Problema \"matriz_geral\"\n",
        "Ler uma matriz quadrada de ordem N (máximo = 10), contendo números reais. Em seguida, fazer as\n",
        "seguintes ações:\n",
        "\n",
        "a) calcular e imprimir a soma de todos os elementos positivos da matriz.\n",
        "\n",
        "b) fazer a leitura do índice de uma linha da matriz e, daí, imprimir todos os elementos desta linha.\n",
        "\n",
        "c) fazer a leitura do índice de uma coluna da matriz e, daí, imprimir todos os elementos desta coluna.\n",
        "\n",
        "d) imprimir os elementos da diagonal principal da matriz.\n",
        "\n",
        "e) alterar a matriz elevando ao quadrado todos os números negativos da mesma. Em seguida imprimir\n",
        "a matriz alterada.\n"
      ],
      "metadata": {
        "id": "6WmWc-Pw3IXD"
      }
    },
    {
      "cell_type": "code",
      "source": [
        "\n",
        "l= int(input(\"Quantas linhas vai ter a matriz? \"))\n",
        "c= int(input(\"Quantas colunas vai ter a matriz? \"))\n",
        "\n",
        "## DECLARANDO UMA MATRIZ\n",
        "\n",
        "mat: [[int]] = [[0 for i in range(c)] for i in range(l)]\n",
        "\n",
        "## PREENCHIMENTO DA MATRIZ, junto com a soma que é o (contador=\"cont\")\n",
        "\n",
        "cont=0\n",
        "for i in range(0,l):\n",
        "  for j in range(0,c):\n",
        "    mat[i] [j] = int(input(f'Elemento [{i},{j}]: '))\n",
        "    if mat[i][j] >=0:\n",
        "      cont+=mat[i][j]\n",
        "\n",
        "##MOSTRANDO A MATRIZ\n",
        "\n",
        "print()\n",
        "print(\"MATRIZ DIGITADA: \")\n",
        "for i in range(0,l):\n",
        "  for j in range(0,c):\n",
        "    print(f\"{mat[i][j]}\", end=\" \")\n",
        "  print(\"\")\n",
        "\n",
        "##MOSTRANDO A SOMA a\n",
        "\n",
        "print(f\"A soma dos numeros digitados na matriz é: {cont}\")\n",
        "\n",
        "## MOSTRANDO A LINHA b\n",
        "\n",
        "indice = int(input(\"Qual o indice da linha da matriz: \"))\n",
        "print()\n",
        "print(\"Matriz digitada: \")\n",
        "for i in range(0,c):\n",
        "    print(f\"{indice[i][i]}\", end=\" \")\n",
        "print(\"\")\n",
        "\n",
        "##Mostrando a diagonal da matriz c\n",
        "\n",
        "indice = int(input(\"Qual o indice da linha da matriz: \"))\n",
        "print()\n",
        "print(\"Matriz digitada: \")\n",
        "for i in range(0,c):\n",
        "  for j in range(0,l):\n",
        "   if i==j:\n",
        "    print(f\"{mat[i][indice[i]]}\", end=\" \")\n",
        "print(\"\")\n",
        "\n"
      ],
      "metadata": {
        "colab": {
          "base_uri": "https://localhost:8080/",
          "height": 478
        },
        "id": "azQVoEcp3IqU",
        "outputId": "6cf41aad-e533-48f2-9657-cda0890ec099"
      },
      "execution_count": null,
      "outputs": [
        {
          "output_type": "stream",
          "name": "stdout",
          "text": [
            "Quantas linhas vai ter a matriz? 2\n",
            "Quantas colunas vai ter a matriz? 2\n",
            "Elemento [0,0]: 1\n",
            "Elemento [0,1]: -2\n",
            "Elemento [1,0]: 3\n",
            "Elemento [1,1]: -6\n",
            "\n",
            "MATRIZ DIGITADA: \n",
            "1 -2 \n",
            "3 -6 \n",
            "A soma dos numeros digitados na matriz é: 4\n",
            "Qual o indice da linha da matriz: 2\n",
            "\n",
            "Matriz digitada: \n"
          ]
        },
        {
          "output_type": "error",
          "ename": "TypeError",
          "evalue": "ignored",
          "traceback": [
            "\u001b[0;31m---------------------------------------------------------------------------\u001b[0m",
            "\u001b[0;31mTypeError\u001b[0m                                 Traceback (most recent call last)",
            "\u001b[0;32m<ipython-input-40-c881ceb0151c>\u001b[0m in \u001b[0;36m<cell line: 34>\u001b[0;34m()\u001b[0m\n\u001b[1;32m     33\u001b[0m \u001b[0mprint\u001b[0m\u001b[0;34m(\u001b[0m\u001b[0;34m\"Matriz digitada: \"\u001b[0m\u001b[0;34m)\u001b[0m\u001b[0;34m\u001b[0m\u001b[0;34m\u001b[0m\u001b[0m\n\u001b[1;32m     34\u001b[0m \u001b[0;32mfor\u001b[0m \u001b[0mi\u001b[0m \u001b[0;32min\u001b[0m \u001b[0mrange\u001b[0m\u001b[0;34m(\u001b[0m\u001b[0;36m0\u001b[0m\u001b[0;34m,\u001b[0m\u001b[0mc\u001b[0m\u001b[0;34m)\u001b[0m\u001b[0;34m:\u001b[0m\u001b[0;34m\u001b[0m\u001b[0;34m\u001b[0m\u001b[0m\n\u001b[0;32m---> 35\u001b[0;31m     \u001b[0mprint\u001b[0m\u001b[0;34m(\u001b[0m\u001b[0;34mf\"{indice[i][i]}\"\u001b[0m\u001b[0;34m,\u001b[0m \u001b[0mend\u001b[0m\u001b[0;34m=\u001b[0m\u001b[0;34m\" \"\u001b[0m\u001b[0;34m)\u001b[0m\u001b[0;34m\u001b[0m\u001b[0;34m\u001b[0m\u001b[0m\n\u001b[0m\u001b[1;32m     36\u001b[0m \u001b[0mprint\u001b[0m\u001b[0;34m(\u001b[0m\u001b[0;34m\"\"\u001b[0m\u001b[0;34m)\u001b[0m\u001b[0;34m\u001b[0m\u001b[0;34m\u001b[0m\u001b[0m\n\u001b[1;32m     37\u001b[0m \u001b[0;34m\u001b[0m\u001b[0m\n",
            "\u001b[0;31mTypeError\u001b[0m: 'int' object is not subscriptable"
          ]
        }
      ]
    }
  ]
}