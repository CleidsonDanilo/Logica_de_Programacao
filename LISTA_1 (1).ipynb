{
  "nbformat": 4,
  "nbformat_minor": 0,
  "metadata": {
    "colab": {
      "provenance": [],
      "toc_visible": true
    },
    "kernelspec": {
      "name": "python3",
      "display_name": "Python 3"
    },
    "language_info": {
      "name": "python"
    }
  },
  "cells": [
    {
      "cell_type": "markdown",
      "source": [
        "# 1° questao\n",
        "Ler um valor e escrever a mensagem É MAIOR QUE 10! se o valor lido for maior que 10, caso contrário escrever NÃO É MAIOR QUE 10!."
      ],
      "metadata": {
        "id": "WMu619KeDF_F"
      }
    },
    {
      "cell_type": "code",
      "execution_count": null,
      "metadata": {
        "colab": {
          "base_uri": "https://localhost:8080/"
        },
        "id": "RsaEpoNoC_qp",
        "outputId": "b11c6444-5bca-491f-a1ad-03975758be9d"
      },
      "outputs": [
        {
          "output_type": "stream",
          "name": "stdout",
          "text": [
            "Digite um numero: 1\n",
            "E MENOR QUE VA!\n"
          ]
        }
      ],
      "source": [
        "n=float(input(\"Digite um numero: \"  ))\n",
        "if n>10:\n",
        " print(\"É MAIOR QUE DEZ!\")\n",
        "else:\n",
        " print(\"É MENOR QUE VA!\")"
      ]
    },
    {
      "cell_type": "markdown",
      "source": [
        "# 2° questao\n",
        "\n",
        " Ler um valor e escrever se é positivo ou negativo (considere o valor zero como positivo)"
      ],
      "metadata": {
        "id": "RnCfOFUoDBI_"
      }
    },
    {
      "cell_type": "code",
      "source": [
        "n=float(input(\"Digite um numero: \"  ))\n",
        "if n>=0:\n",
        " print(\"É POSITIVO!!\")\n",
        "else:\n",
        " print(\"É NEGATIVO!!\")"
      ],
      "metadata": {
        "id": "hYxtDra_ET9D"
      },
      "execution_count": null,
      "outputs": []
    },
    {
      "cell_type": "markdown",
      "source": [
        "# 3° questao"
      ],
      "metadata": {
        "id": "fOhM91bdEOkz"
      }
    },
    {
      "cell_type": "code",
      "source": [
        "w=float(input(\"Digite um valor!\\n\"))\n",
        "if w%2 == 0:\n",
        "  print(\"É PAR\")\n",
        "else:\n",
        "  print(\"É IMPAR\")"
      ],
      "metadata": {
        "colab": {
          "base_uri": "https://localhost:8080/"
        },
        "id": "O24KWHsKER9P",
        "outputId": "2751216c-8266-446a-80a8-136562a80405"
      },
      "execution_count": null,
      "outputs": [
        {
          "output_type": "stream",
          "name": "stdout",
          "text": [
            "Digite um valor!\n",
            "6\n",
            "É PAR\n"
          ]
        }
      ]
    },
    {
      "cell_type": "markdown",
      "source": [
        "# 4° questao"
      ],
      "metadata": {
        "id": "m8e-9c6TEUps"
      }
    },
    {
      "cell_type": "code",
      "source": [
        "c=float(input(\"Digite o comprimento: \\n\"))\n",
        "l=float(input(\"Digite a largura: \\n\"))\n",
        "print(f'a area e: {c*l:.2f}')"
      ],
      "metadata": {
        "colab": {
          "base_uri": "https://localhost:8080/"
        },
        "id": "bP77VllbEYLj",
        "outputId": "1c31ee45-28b7-4879-eec6-a5352f69dd00"
      },
      "execution_count": null,
      "outputs": [
        {
          "output_type": "stream",
          "name": "stdout",
          "text": [
            "Digite o comprimento: \n",
            "10\n",
            "Digite a largura: \n",
            "10\n",
            "a area e: 100.00\n"
          ]
        }
      ]
    },
    {
      "cell_type": "markdown",
      "source": [
        "# 5° QUESTAO\n",
        "Ler o ano atual e o ano de nascimento de uma pessoa. Escrever uma mensagem que diga se é maior ou menor de idade."
      ],
      "metadata": {
        "id": "FJdW5t4MHcom"
      }
    },
    {
      "cell_type": "code",
      "source": [
        "anoatual=int(input(\"DIGITE A IDADE ATUAL: \"  ))\n",
        "anonasc=int(input(\"DIGITE O ANO QUE VOCE NASCEU: \"  ))\n",
        "if n>=0:\n",
        " print(\"É POSITIVO!!\")\n",
        "else:\n",
        " print(\"É NEGATIVO!!\")"
      ],
      "metadata": {
        "id": "vo0b8DEhHlJ0"
      },
      "execution_count": null,
      "outputs": []
    },
    {
      "cell_type": "markdown",
      "source": [
        "# 6° QUESTAO\n",
        "Ler dois valores (considere que não serão lidos valores iguais) e escrever o maior deles."
      ],
      "metadata": {
        "id": "75iiBuHSIXzE"
      }
    },
    {
      "cell_type": "code",
      "source": [
        "n1=int(input(\"DIGITE O PRIMEIRO VALOR: \\n\"))\n",
        "n2=int(input(\"DIGITE O SEGUNDO VALOR: \\n \"))\n",
        "\n",
        "if n1==n2:\n",
        "  print(\"OS VALORES SÃO IGUAIS. \")\n",
        "elif n1>n2:\n",
        "  print(f\"O maior valor é: {n1}\")\n",
        "else:\n",
        "  print(f\"O maior valor é: {n2}\")"
      ],
      "metadata": {
        "colab": {
          "base_uri": "https://localhost:8080/"
        },
        "id": "mQwY_pInLVUT",
        "outputId": "140d3271-f33f-4885-9441-57dcbc787924"
      },
      "execution_count": null,
      "outputs": [
        {
          "output_type": "stream",
          "name": "stdout",
          "text": [
            "DIGITE O PRIMEIRO VALOR: \n",
            "1\n",
            "DIGITE O SEGUNDO VALOR: \n",
            " 2\n",
            "O maior valor é: 2\n"
          ]
        }
      ]
    },
    {
      "cell_type": "markdown",
      "source": [
        "# 7° Questao"
      ],
      "metadata": {
        "id": "_zFwqvkAN9M8"
      }
    },
    {
      "cell_type": "code",
      "source": [
        "Ler dois valores (considere que não serão lidos valores iguais) e escrevê-los em ordem crescente."
      ],
      "metadata": {
        "id": "ZEpZbie0OH0L"
      },
      "execution_count": null,
      "outputs": []
    },
    {
      "cell_type": "code",
      "source": [
        "n1=int(input(\"DIGITE O PRIMEIRO VALOR: \\n\"))\n",
        "n2=int(input(\"DIGITE O SEGUNDO VALOR: \\n \"))\n",
        "\n",
        "if n1==n2:\n",
        "  print(\"OS VALORES SÃO IGUAIS. \")\n",
        "elif n1>n2:\n",
        "  print(f\"{n2},{n1}\")\n",
        "else:\n",
        "  print(f\"{n1} , {n2}\")"
      ],
      "metadata": {
        "colab": {
          "base_uri": "https://localhost:8080/"
        },
        "id": "nqeXX6AMOKET",
        "outputId": "0664d3f7-19f2-4254-8049-93a25e29116d"
      },
      "execution_count": null,
      "outputs": [
        {
          "output_type": "stream",
          "name": "stdout",
          "text": [
            "DIGITE O PRIMEIRO VALOR: \n",
            "0\n",
            "DIGITE O SEGUNDO VALOR: \n",
            " 0\n",
            "OS VALORES SÃO IGUAIS. \n"
          ]
        }
      ]
    },
    {
      "cell_type": "markdown",
      "source": [
        "# 8° Questao\n",
        "\n",
        "As maçãs custam R$ 1,15 cada se forem compradas menos de uma dúzia, e R$ 1,00 se forem compradas pelo menos 12. Escreva um programa que leia o número de maçãs compradas, calcule e escreva o custo total da compra."
      ],
      "metadata": {
        "id": "XhGlWuEYOwY1"
      }
    },
    {
      "cell_type": "code",
      "source": [
        "uni=int(input(\"Qual a quantidade de maçãs compradas? \\n\"))\n",
        "if uni >= 12:\n",
        "  print(f'o total da compra é de: {uni*1.00:.2f}')\n",
        "else:\n",
        "   print(f'o total da compra é de: {uni*1.15:.2f}')"
      ],
      "metadata": {
        "colab": {
          "base_uri": "https://localhost:8080/"
        },
        "id": "C3IP1LXfO_Ys",
        "outputId": "845516dd-0b00-4a1f-fccc-afd3756ffc34"
      },
      "execution_count": null,
      "outputs": [
        {
          "output_type": "stream",
          "name": "stdout",
          "text": [
            "Qual a quantidade de maçãs compradas? \n",
            "4\n",
            "o total da compra é de: 4.60\n"
          ]
        }
      ]
    },
    {
      "cell_type": "markdown",
      "source": [
        "# 9° Questao\n",
        "\n",
        " A jornada de trabalho semanal de um funcionário é de 40 horas. O funcionário que trabalhar mais de 40 horas receberá hora extra, cujo cálculo é o valor da hora regular com um acréscimo de 50%. Escreva um algoritmo que leia o número de horas trabalhadas em um mês, o salário por hora e escreva o salário total do funcionário, que deverá ser acrescido das horas extras, caso tenham sido trabalhadas (considere que o mês possua 4 semanas exatas)."
      ],
      "metadata": {
        "id": "qUCfzq0UQATF"
      }
    },
    {
      "cell_type": "code",
      "source": [
        "\n",
        "horas = int(input(\"Digite o número de horas trabalhadas no mes: \"))\n",
        "salario_hr = float(input(\"Digite o salário por hora: \"))\n",
        "\n",
        "if horas>160:\n",
        "  salariomes=((horas-160)*salario_hr*1.5 + (160*salario_hr))\n",
        "  print(f\"O salario do final do funcionario é R$ : {salariomes:.2f}\")\n",
        "else:\n",
        "  salariomes=horas*salario_hr\n",
        "  print(f\"O salario do final do funcionario é R$ : {salariomes:.2f}\")\n",
        "\n"
      ],
      "metadata": {
        "colab": {
          "base_uri": "https://localhost:8080/"
        },
        "id": "en5A87obQJcs",
        "outputId": "24f5b3d0-1287-4d6a-deca-ef650ef4b327"
      },
      "execution_count": null,
      "outputs": [
        {
          "output_type": "stream",
          "name": "stdout",
          "text": [
            "Digite o número de horas trabalhadas no semana: 44\n",
            "Digite o salário por hora: 40\n",
            "O salario do final do funcionario é R$ : 1760.00\n"
          ]
        }
      ]
    },
    {
      "cell_type": "markdown",
      "source": [
        "# 10° questao\n",
        "\n",
        " Escreva um algoritmo para ler o salário mensal atual de um funcionário e o percentual de reajuste. Calcular e escrever o valor do novo salário."
      ],
      "metadata": {
        "id": "s1nr597DgDsh"
      }
    },
    {
      "cell_type": "code",
      "source": [
        "salario=float(input(\"Digite o salario: \"))\n",
        "porc=float(input(\"Digite a porcentagem: \"))\n",
        "\n",
        "print(f\"novo salario: {(salario*porc)/100 + (salario)}\")\n"
      ],
      "metadata": {
        "colab": {
          "base_uri": "https://localhost:8080/"
        },
        "id": "eFyvqMGigG4g",
        "outputId": "8bad0b4d-89ef-447a-a784-1638e6ba4c4d"
      },
      "execution_count": null,
      "outputs": [
        {
          "output_type": "stream",
          "name": "stdout",
          "text": [
            "Digite o salario: 1000\n",
            "Digite a porcentagem: 10\n",
            "novo salario: 1100.0\n"
          ]
        }
      ]
    }
  ]
}